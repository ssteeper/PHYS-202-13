{
 "metadata": {
  "name": "euler6"
 },
 "nbformat": 3,
 "nbformat_minor": 0,
 "worksheets": [
  {
   "cells": [
    {
     "cell_type": "markdown",
     "metadata": {},
     "source": [
      "Sum square difference\n",
      "===\n",
      "Problem 6\n",
      "--\n",
      "\n",
      "The sum of the squares of the first ten natural numbers is:\n",
      "\n",
      "$1^2$ + $2^2$ + ... + $10^2$ = $385$\n",
      "\n",
      "The square of the sum of the first ten natural numbers is:\n",
      "\n",
      "$(1 + 2 + ... + 10)^2$ = $55^2$ = 3025\n",
      "\n",
      "Hence the difference between the sum of the squares of the first ten natural numbers and the square of the sum is 3025 - 385 = 2640.\n",
      "Find the difference between the sum of the squares of the first one hundred natural numbers and the square of the sum.\n",
      "\n"
     ]
    },
    {
     "cell_type": "code",
     "collapsed": false,
     "input": [
      "sumSquare= 0\n",
      "for i in range(1,11):\n",
      "    sumSquare += i**2\n",
      "    \n",
      "print sumSquare"
     ],
     "language": "python",
     "metadata": {},
     "outputs": [
      {
       "output_type": "stream",
       "stream": "stdout",
       "text": [
        "385\n"
       ]
      }
     ],
     "prompt_number": 10
    },
    {
     "cell_type": "code",
     "collapsed": false,
     "input": [
      "squareSum = 0\n",
      "for i in range(1,11):\n",
      "    squareSum += i\n",
      "squareSum = squareSum **2\n",
      "print squareSum"
     ],
     "language": "python",
     "metadata": {},
     "outputs": [
      {
       "output_type": "stream",
       "stream": "stdout",
       "text": [
        "3025\n"
       ]
      }
     ],
     "prompt_number": 7
    },
    {
     "cell_type": "code",
     "collapsed": false,
     "input": [
      "sumSquare= 0\n",
      "squareSum= 0\n",
      "for i in range(1,101):\n",
      "    sumSquare += i**2\n",
      "for i in range(1,101):\n",
      "    squareSum += i\n",
      "squareSum = squareSum **2\n",
      "\n",
      "print squareSum - sumSquare"
     ],
     "language": "python",
     "metadata": {},
     "outputs": [
      {
       "output_type": "stream",
       "stream": "stdout",
       "text": [
        "25164150\n"
       ]
      }
     ],
     "prompt_number": 11
    },
    {
     "cell_type": "raw",
     "metadata": {},
     "source": [
      "Combining the for loops:"
     ]
    },
    {
     "cell_type": "code",
     "collapsed": false,
     "input": [
      "sumSquare= 0\n",
      "squareSum= 0\n",
      "\n",
      "for i in range(1,101):\n",
      "    sumSquare += i**2\n",
      "    squareSum += i\n",
      "    \n",
      "squareSum = squareSum **2\n",
      "\n",
      "print squareSum - sumSquare"
     ],
     "language": "python",
     "metadata": {},
     "outputs": [
      {
       "output_type": "stream",
       "stream": "stdout",
       "text": [
        "25164150\n"
       ]
      }
     ],
     "prompt_number": 13
    },
    {
     "cell_type": "code",
     "collapsed": false,
     "input": [],
     "language": "python",
     "metadata": {},
     "outputs": []
    }
   ],
   "metadata": {}
  }
 ]
}