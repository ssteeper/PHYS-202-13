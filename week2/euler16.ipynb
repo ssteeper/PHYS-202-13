{
 "metadata": {
  "name": "euler16"
 },
 "nbformat": 3,
 "nbformat_minor": 0,
 "worksheets": [
  {
   "cells": [
    {
     "cell_type": "markdown",
     "metadata": {},
     "source": [
      "Power digit sum\n",
      "==\n",
      "Problem 16\n",
      "--\n",
      "\n",
      "$2^15$ = 32768 and the sum of its digits is 3 + 2 + 7 + 6 + 8 = 26.\n",
      "\n",
      "What is the sum of the digits of the number $2^1000$?"
     ]
    },
    {
     "cell_type": "code",
     "collapsed": false,
     "input": [
      "print str(2**15)"
     ],
     "language": "python",
     "metadata": {},
     "outputs": [
      {
       "output_type": "stream",
       "stream": "stdout",
       "text": [
        "32768\n"
       ]
      }
     ],
     "prompt_number": 8
    },
    {
     "cell_type": "code",
     "collapsed": false,
     "input": [
      "num = str(2**15)\n",
      "print num[0]"
     ],
     "language": "python",
     "metadata": {},
     "outputs": [
      {
       "output_type": "stream",
       "stream": "stdout",
       "text": [
        "3\n"
       ]
      }
     ],
     "prompt_number": 9
    },
    {
     "cell_type": "code",
     "collapsed": false,
     "input": [
      "for i in range(len(num)):\n",
      "    print num[i]"
     ],
     "language": "python",
     "metadata": {},
     "outputs": [
      {
       "output_type": "stream",
       "stream": "stdout",
       "text": [
        "3\n",
        "2\n",
        "7\n",
        "6\n",
        "8\n"
       ]
      }
     ],
     "prompt_number": 10
    },
    {
     "cell_type": "code",
     "collapsed": false,
     "input": [
      "digitSum = 0\n",
      "num = str(2**15)\n",
      "\n",
      "for i in range(len(num)):\n",
      "    digitSum += int(num[i])\n",
      "\n",
      "print digitSum"
     ],
     "language": "python",
     "metadata": {},
     "outputs": [
      {
       "output_type": "stream",
       "stream": "stdout",
       "text": [
        "26\n"
       ]
      }
     ],
     "prompt_number": 12
    },
    {
     "cell_type": "raw",
     "metadata": {},
     "source": [
      "algorithm works, now apply on 2^(1000):"
     ]
    },
    {
     "cell_type": "code",
     "collapsed": false,
     "input": [
      "digitSum = 0\n",
      "num = str(2**1000)\n",
      "\n",
      "for i in range(len(num)):\n",
      "    digitSum += int(num[i])\n",
      "\n",
      "print digitSum"
     ],
     "language": "python",
     "metadata": {},
     "outputs": [
      {
       "output_type": "stream",
       "stream": "stdout",
       "text": [
        "1366\n"
       ]
      }
     ],
     "prompt_number": 14
    },
    {
     "cell_type": "code",
     "collapsed": false,
     "input": [
      "def digitSum(num):\n",
      "    sumOfDigits= 0\n",
      "    strnum = str(num)\n",
      "    for i in range(len(strnum)):\n",
      "        sumOfDigits += int(strnum[i])\n",
      "    return sumOfDigits\n",
      "\n",
      "print digitSum(2**1000)\n",
      "        "
     ],
     "language": "python",
     "metadata": {},
     "outputs": [
      {
       "output_type": "stream",
       "stream": "stdout",
       "text": [
        "1366\n"
       ]
      }
     ],
     "prompt_number": 15
    },
    {
     "cell_type": "raw",
     "metadata": {},
     "source": [
      "Made a function that accepts a number as input and returns the sum of its digits."
     ]
    },
    {
     "cell_type": "code",
     "collapsed": false,
     "input": [
      "print digitSum(123)"
     ],
     "language": "python",
     "metadata": {},
     "outputs": [
      {
       "output_type": "stream",
       "stream": "stdout",
       "text": [
        "6\n"
       ]
      }
     ],
     "prompt_number": 16
    },
    {
     "cell_type": "code",
     "collapsed": false,
     "input": [],
     "language": "python",
     "metadata": {},
     "outputs": []
    }
   ],
   "metadata": {}
  }
 ]
}