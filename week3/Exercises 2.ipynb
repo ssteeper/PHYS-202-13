{
 "metadata": {
  "name": "Exercises 2"
 },
 "nbformat": 3,
 "nbformat_minor": 0,
 "worksheets": [
  {
   "cells": [
    {
     "cell_type": "markdown",
     "metadata": {},
     "source": [
      "Publication quality graphics, Exercises 2\n",
      "==\n",
      "18-Apr-2013\n",
      "--"
     ]
    },
    {
     "cell_type": "markdown",
     "metadata": {},
     "source": [
      "1.\n",
      "=\n",
      "Download the American Math Society\u2019s short math guide (ftp://ftp.ams.org/pub/ tex/doc/amsmath/short-math-guide.pdf) for LATEX formatting of math equations and symbols. Use it as a reference to reproduce the following equations in markdown cells in your notebook. Be careful with parentheses and brackets - if they span over larger than one line, yours should too.\n",
      "\n",
      "(a)\n",
      "-"
     ]
    },
    {
     "cell_type": "markdown",
     "metadata": {},
     "source": [
      "$ \\psi_k(x) = A\\Biggl(\\dfrac{ik-a\\tanh(ax)}{ik + a}\\Biggl)e ^{+ikx}$"
     ]
    },
    {
     "cell_type": "markdown",
     "metadata": {},
     "source": [
      "(b)\n",
      "-"
     ]
    },
    {
     "cell_type": "markdown",
     "metadata": {},
     "source": [
      "$\n",
      "v_1 = m_2 \\sqrt{\\frac{2G}{M}\\Bigl(\\frac{1}{r} - \\frac{1}{r_0}\\Bigl)}\n",
      "$\n"
     ]
    },
    {
     "cell_type": "markdown",
     "metadata": {},
     "source": [
      "(c)\n",
      "-"
     ]
    },
    {
     "cell_type": "markdown",
     "metadata": {},
     "source": [
      "$\n",
      "f(\\theta) = \\frac{\\hbar}{p} \\sum\\limits_{\\ell=0}^{\\infty}(2\\ell + 1)e^{i\\delta_\\ell}\\sin \\delta_{\\ell}P_{\\ell}(\\cos\\theta)\n",
      "$"
     ]
    },
    {
     "cell_type": "markdown",
     "metadata": {},
     "source": [
      "(d)\n",
      "-\n",
      "\n",
      "$\n",
      "\\dfrac{d\\sigma}{d\\Omega} = \\dfrac{k\\pi^{2}(\\pi-\\theta)}{mu_0^{2}\\theta^{2}(2{\\pi} - \\theta)^2\\sin\\theta}\n",
      "$"
     ]
    },
    {
     "cell_type": "markdown",
     "metadata": {},
     "source": [
      "(e)\n",
      "-\n"
     ]
    },
    {
     "cell_type": "markdown",
     "metadata": {},
     "source": [
      "\\begin{equation}\n",
      "\\langle f \\rangle = \\dfrac{1}{\\tau}\\int_0^{\\tau}f(t)dt\n",
      "\\end{equation}"
     ]
    },
    {
     "cell_type": "markdown",
     "metadata": {},
     "source": [
      "(f)\n",
      "-\n"
     ]
    },
    {
     "cell_type": "markdown",
     "metadata": {},
     "source": [
      "$\n",
      "\\Omega_s = \\omega\\dfrac{\\sin\\alpha}{\\sin\\theta} = \\dfrac{L}{\\lambda_1} = \\omega\\dfrac{\\sqrt{\\lambda_3^2 + (\\lambda_1^2 - \\lambda_3^2)\\sin\\alpha}}{\\lambda_1}\n",
      "$"
     ]
    },
    {
     "cell_type": "markdown",
     "metadata": {},
     "source": [
      "2.\n",
      "-\n",
      "In PHYS 212, many of you encountered the wave function shown in question 1(a). You plotted this along with the potential energy from the positive energy solutions for Schroedinger\u2019s equation:\n",
      "\n",
      "$\n",
      "U(x) = \\dfrac{\u22121}{\\cosh^2(ax)}\n",
      "$"
     ]
    },
    {
     "cell_type": "code",
     "collapsed": false,
     "input": [
      "from numpy import *\n",
      "x = arange(-pi, pi, .01)\n",
      "U = -1/cosh(x)**2\n",
      "i = 1j\n",
      "k = 0\n",
      "psi = (i*k - tanh(x))/(i*k+1) * e**(i*k*x)\n",
      "psi2 = conjugate(psi) * psi\n"
     ],
     "language": "python",
     "metadata": {},
     "outputs": [],
     "prompt_number": 31
    },
    {
     "cell_type": "code",
     "collapsed": false,
     "input": [
      "grid(True)\n",
      "xlabel('x(rad)')\n",
      "ylabel('U(x), psi')\n",
      "#xticks(arange(-pi, pi))\n",
      "#yticks(arange(-1,1))\n",
      "plot(x, U, linewidth = 2)\n",
      "\n",
      "def psiplot(k):\n",
      "    psi = (i*k - tanh(x))/(i*k+1) * e**(i*k*x)\n",
      "    psi2 = conjugate(psi) * psi\n",
      "    plot(x, psi2, linewidth =2)\n",
      "    \n",
      "ks = [0.0, 0.5, 1.0, 2.0]\n",
      "for k in ks:\n",
      "    psiplot(k)"
     ],
     "language": "python",
     "metadata": {},
     "outputs": [
      {
       "output_type": "display_data",
       "png": "[encoded data removed]"
      }
     ],
     "prompt_number": 45
    },
    {
     "cell_type": "code",
     "collapsed": false,
     "input": [],
     "language": "python",
     "metadata": {},
     "outputs": [],
     "prompt_number": 13
    },
    {
     "cell_type": "code",
     "collapsed": false,
     "input": [],
     "language": "python",
     "metadata": {},
     "outputs": []
    }
   ],
   "metadata": {}
  }
 ]
}