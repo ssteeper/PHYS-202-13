{
 "metadata": {
  "name": "Project"
 },
 "nbformat": 3,
 "nbformat_minor": 0,
 "worksheets": [
  {
   "cells": [
    {
     "cell_type": "markdown",
     "metadata": {},
     "source": [
      "Multilateration for cosmic ray detection\n",
      "="
     ]
    },
    {
     "cell_type": "markdown",
     "metadata": {},
     "source": [
      "May 21\n",
      "-\n",
      "\n",
      "Using Google Earth, I specified 17 (labeled 0 through 16) points on Cal Poly campus on rooftops or other areas unblocked from the sky. Using the geographical coordinates for those points (supplied by Google Earth), I calculated the distance from an origin detector (Point #1) to each other detector. I used an online distance calculator to do this (www.movable-type.co.uk/scripts/latlong.html), along with Google Earth's elevation statistics for the z distance. To get x/y distance instead of radial distance I computed the North/South and West/East distances separately."
     ]
    },
    {
     "cell_type": "code",
     "collapsed": false,
     "input": [
      "# units of km\n",
      "detectors = []\n",
      "detectors.append((0.,0.,0.))  #detector 0\n",
      "add = lambda x: detectors.append(x)"
     ],
     "language": "python",
     "metadata": {},
     "outputs": [],
     "prompt_number": 5
    },
    {
     "cell_type": "code",
     "collapsed": false,
     "input": [
      "#north is +y, east is +x, up is +z\n",
      "\n",
      "#       X       Y       Z \n",
      "add(( .2120, -.5408,  .005)) #1\n",
      "add(( .0179, -.3750,  .003)) #2\n",
      "add(( .2432, -.3500,  .008)) #3\n",
      "add(( .4487, -.2761,  .021)) #4\n",
      "add(( .6435, -.3039,  .048)) #5\n",
      "add(( .6685, -.7604,  .026)) #6\n",
      "add(( .3952, -.5930,  .014)) #7\n",
      "add(( .2974, -.8309,  .004)) #8\n",
      "add(( .1407, -.7024, -.002)) #9\n",
      "add(( .5505, -.4979,  .030)) #10\n",
      "add((-.0554, -.6085, -.006)) #11\n",
      "add((-.3756, -.6162, -.013)) #12\n",
      "add((-.2473, -.2236, -.008)) #13\n",
      "add(( .3070, -.0997,  .006)) #14\n",
      "add(( .4386, -.9504,  .007)) #15\n",
      "add((-.0184, -.8615, -.002)) #16"
     ],
     "language": "python",
     "metadata": {},
     "outputs": [],
     "prompt_number": 6
    },
    {
     "cell_type": "code",
     "collapsed": false,
     "input": [
      "xs = [x[0] for x in detectors]\n",
      "ys = [x[1] for x in detectors]\n",
      "scatter(xs, ys)\n",
      "show()"
     ],
     "language": "python",
     "metadata": {},
     "outputs": [
      {
       "output_type": "display_data",
       "png": "[encoded data removed]"
      }
     ],
     "prompt_number": 7
    },
    {
     "cell_type": "markdown",
     "metadata": {},
     "source": [
      "May 22\n",
      "-\n",
      "I want the center of the 1.3km diameter circle to be in the middle of my detectors, but i've already chosen the origin as the northmost detector. I'll use detector #1 for the center of the circle, with an adjusted z coordinate because it's at 15km. "
     ]
    },
    {
     "cell_type": "code",
     "collapsed": false,
     "input": [
      "a = detectors[1]\n",
      "center = a[:-1] + (a[-1]+15,)\n",
      "print center\n",
      "d = 1.3\n",
      "R = d/2\n",
      "N=100"
     ],
     "language": "python",
     "metadata": {},
     "outputs": [
      {
       "output_type": "stream",
       "stream": "stdout",
       "text": [
        "(0.212, -0.5408, 15.005)\n"
       ]
      }
     ],
     "prompt_number": 20
    },
    {
     "cell_type": "code",
     "collapsed": false,
     "input": [
      "import numpy.random\n",
      "r = R*sqrt(numpy.random.random(N))\n",
      "theta = numpy.random.random(N) * 2 *pi"
     ],
     "language": "python",
     "metadata": {},
     "outputs": [],
     "prompt_number": 21
    },
    {
     "cell_type": "code",
     "collapsed": false,
     "input": [],
     "language": "python",
     "metadata": {},
     "outputs": [],
     "prompt_number": 22
    },
    {
     "cell_type": "code",
     "collapsed": false,
     "input": [],
     "language": "python",
     "metadata": {},
     "outputs": []
    }
   ],
   "metadata": {}
  }
 ]
}