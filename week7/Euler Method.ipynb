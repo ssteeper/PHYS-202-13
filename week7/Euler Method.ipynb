{
 "metadata": {
  "name": "Euler Method"
 },
 "nbformat": 3,
 "nbformat_minor": 0,
 "worksheets": [
  {
   "cells": [
    {
     "cell_type": "markdown",
     "metadata": {},
     "source": [
      "Euler's Method\n",
      "=\n",
      "Exercise 1.\n",
      "-"
     ]
    },
    {
     "cell_type": "markdown",
     "metadata": {},
     "source": [
      "(a) Use Euler's method to solve the following first order diff eq. with given initial condition $y(0) = 0$."
     ]
    },
    {
     "cell_type": "markdown",
     "metadata": {},
     "source": [
      "$\\dfrac{dy}{dx} = x + 2y$"
     ]
    },
    {
     "cell_type": "markdown",
     "metadata": {},
     "source": [
      "Find the value of $y$ when $x = 1$, that is $y(1)$, using a first step size of 0.25, and then .02."
     ]
    },
    {
     "cell_type": "code",
     "collapsed": false,
     "input": [
      "def deriv(x, y):\n",
      "    return x + 2*y"
     ],
     "language": "python",
     "metadata": {},
     "outputs": [],
     "prompt_number": 93
    },
    {
     "cell_type": "code",
     "collapsed": false,
     "input": [
      "dx1 = .25\n",
      "x = arange(0,10,dx)\n",
      "y1 = zeros(x.shape, float)\n",
      "dydx1 = np.zeros(len(x))"
     ],
     "language": "python",
     "metadata": {},
     "outputs": [],
     "prompt_number": 94
    },
    {
     "cell_type": "code",
     "collapsed": false,
     "input": [
      "dx2 = .02\n",
      "x = arange(0,10,dx)\n",
      "y2 = zeros(x.shape, float)\n",
      "dydx2 = np.zeros(len(x))"
     ],
     "language": "python",
     "metadata": {},
     "outputs": [],
     "prompt_number": 102
    },
    {
     "cell_type": "code",
     "collapsed": false,
     "input": [
      "for i in range(1, len(dydx1)):\n",
      "    dydx1[i] = dydx1[i-1] +(1+2*deriv(x[i-1], y1[i-1])*dx1)\n",
      "    y1[i] = y1[i-1] + dydx1[i-1]*dx1"
     ],
     "language": "python",
     "metadata": {},
     "outputs": [],
     "prompt_number": 103
    },
    {
     "cell_type": "code",
     "collapsed": false,
     "input": [
      "for i in range(1, len(dydx2)):\n",
      "    dydx2[i] = dydx2[i-1] +(1+2*deriv(x[i-1], y2[i-1])*dx2)\n",
      "    y2[i] = y2[i-1] + dydx2[i-1]*dx2"
     ],
     "language": "python",
     "metadata": {},
     "outputs": [],
     "prompt_number": 97
    },
    {
     "cell_type": "code",
     "collapsed": false,
     "input": [
      "ytrue = 0.25*e**(2*x) - .5*x - .25\n",
      "#plot(x, ytrue, label = 'true')\n",
      "plot(x, y1, label = 'dx = .25')\n",
      "#plot(x, y2, label = 'dx = .02')\n",
      "\n",
      "legend()\n",
      "show()"
     ],
     "language": "python",
     "metadata": {},
     "outputs": [
      {
       "output_type": "display_data",
       "png": "[encoded data removed]"
      }
     ],
     "prompt_number": 106
    },
    {
     "cell_type": "code",
     "collapsed": false,
     "input": [],
     "language": "python",
     "metadata": {},
     "outputs": []
    }
   ],
   "metadata": {}
  }
 ]
}