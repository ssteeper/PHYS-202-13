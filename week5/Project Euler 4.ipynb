{
 "metadata": {
  "name": "Project Euler 4"
 },
 "nbformat": 3,
 "nbformat_minor": 0,
 "worksheets": [
  {
   "cells": [
    {
     "cell_type": "markdown",
     "metadata": {},
     "source": [
      "Project Euler 4\n",
      "=\n",
      "Largest Palindrome Product\n",
      "-\n",
      "\n",
      "A palindromic number reads the same both ways. The largest palindrome made from the product of two 2-digit numbers is 9009 = 91 \u00d7 99.\n",
      "\n",
      "Find the largest palindrome made from the product of two 3-digit numbers.\n"
     ]
    },
    {
     "cell_type": "code",
     "collapsed": false,
     "input": [
      "largest = 0\n",
      "x = 91\n",
      "y = 99\n",
      "num = str(x*y)\n",
      "print num"
     ],
     "language": "python",
     "metadata": {},
     "outputs": [
      {
       "output_type": "stream",
       "stream": "stdout",
       "text": [
        "9009\n"
       ]
      }
     ],
     "prompt_number": 2
    },
    {
     "cell_type": "code",
     "collapsed": false,
     "input": [
      "#palindrome checker\n",
      "\n",
      "if len(num) == 5:  #for 5-digit products\n",
      "    if num[0] == num[-1] and num[1] == num[-2]:\n",
      "        if int(num) > largest:\n",
      "            largest = int(num)\n",
      "if len(num) == 6:  #for 6-digit products\n",
      "    if num[0] == num[-1] and num[1] == num[-2] and num[2] == num[-3]:\n",
      "        if int(num) > largest:\n",
      "            largest = int(num)\n",
      "print largest"
     ],
     "language": "python",
     "metadata": {},
     "outputs": [
      {
       "output_type": "stream",
       "stream": "stdout",
       "text": [
        "0\n"
       ]
      }
     ],
     "prompt_number": 3
    },
    {
     "cell_type": "code",
     "collapsed": false,
     "input": [
      "#making a list of all products\n",
      "\n",
      "nums = []\n",
      "for i in range(111,1000):\n",
      "    for j in range(111,1000):\n",
      "        nums.append(str(i*j))"
     ],
     "language": "python",
     "metadata": {},
     "outputs": [],
     "prompt_number": 4
    },
    {
     "cell_type": "code",
     "collapsed": false,
     "input": [
      "print len(nums)"
     ],
     "language": "python",
     "metadata": {},
     "outputs": [
      {
       "output_type": "stream",
       "stream": "stdout",
       "text": [
        "790321\n"
       ]
      }
     ],
     "prompt_number": 5
    },
    {
     "cell_type": "code",
     "collapsed": false,
     "input": [
      "#Full program\n",
      "\n",
      "nums = []\n",
      "for i in range(111,1000):\n",
      "    for j in range(111,1000):\n",
      "        nums.append(str(i*j))\n",
      " \n",
      "for num in nums:  \n",
      "    if len(num) == 5:  #for 5-digit products\n",
      "        if num[0] == num[-1] and num[1] == num[-2]:\n",
      "            if int(num) > largest:\n",
      "                largest = int(num)\n",
      "    if len(num) == 6:  #for 6-digit products\n",
      "        if num[0] == num[-1] and num[1] == num[-2] and num[2] == num[-3]:\n",
      "            if int(num) > largest:\n",
      "                largest = int(num)\n",
      "print 'largest palindrome product of 2 three-digit integers: ' + str(largest)"
     ],
     "language": "python",
     "metadata": {},
     "outputs": [
      {
       "output_type": "stream",
       "stream": "stdout",
       "text": [
        "largest palindrome product of 2 three-digit integers: 906609\n"
       ]
      }
     ],
     "prompt_number": 7
    },
    {
     "cell_type": "code",
     "collapsed": false,
     "input": [],
     "language": "python",
     "metadata": {},
     "outputs": []
    }
   ],
   "metadata": {}
  }
 ]
}