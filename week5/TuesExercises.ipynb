{
 "metadata": {
  "name": "TuesExercises"
 },
 "nbformat": 3,
 "nbformat_minor": 0,
 "worksheets": [
  {
   "cells": [
    {
     "cell_type": "markdown",
     "metadata": {},
     "source": [
      "Numerical Integration\n",
      "=\n",
      "\n",
      "Example 1:\n",
      "-\n",
      "\n",
      "Use the trapezoidal rule to calculate the integral of $x^4 -2x +1$ from $x=0$ to $x=2$."
     ]
    },
    {
     "cell_type": "code",
     "collapsed": false,
     "input": [
      "f = lambda x:x**4 -2*x + 1"
     ],
     "language": "python",
     "metadata": {},
     "outputs": [],
     "prompt_number": 1
    },
    {
     "cell_type": "code",
     "collapsed": false,
     "input": [
      "N=10\n",
      "a = 0.0\n",
      "b = 2.0\n",
      "h = (b-a)/N\n",
      "s = .5*f(a) + .5*f(b)\n",
      "for k in range(1, N):\n",
      "    s += f(a+k*h)\n",
      "print(h*s)"
     ],
     "language": "python",
     "metadata": {},
     "outputs": [
      {
       "output_type": "stream",
       "stream": "stdout",
       "text": [
        "4.50656\n"
       ]
      }
     ],
     "prompt_number": 2
    },
    {
     "cell_type": "markdown",
     "metadata": {},
     "source": [
      "Correct answer = $\\int_0^2(x^4-2x+1)dx = 4.4$"
     ]
    },
    {
     "cell_type": "markdown",
     "metadata": {},
     "source": [
      "So our result is off by about 2%."
     ]
    },
    {
     "cell_type": "markdown",
     "metadata": {},
     "source": [
      "Exercise 1:\n",
      "-\n",
      "What are the results for $N=100$  and $N = 1000$  ?"
     ]
    },
    {
     "cell_type": "code",
     "collapsed": false,
     "input": [
      "N=100\n",
      "h = (b-a)/N\n",
      "s = .5*f(a) + .5*f(b)\n",
      "for k in range(1, N):\n",
      "    s += f(a+k*h)\n",
      "print \"N=100: \" + str(h*s)\n",
      "\n",
      "N=1000\n",
      "h = (b-a)/N\n",
      "s = .5*f(a) + .5*f(b)\n",
      "for k in range(1, N):\n",
      "    s += f(a+k*h)\n",
      "print \"N=1000: \" + str(h*s)\n"
     ],
     "language": "python",
     "metadata": {},
     "outputs": [
      {
       "output_type": "stream",
       "stream": "stdout",
       "text": [
        "N=100: 4.401066656\n",
        "N=1000: 4.40001066667\n"
       ]
      }
     ],
     "prompt_number": 5
    },
    {
     "cell_type": "markdown",
     "metadata": {},
     "source": [
      "Exercise 2\n",
      "-\n",
      "(a)\n",
      "-"
     ]
    },
    {
     "cell_type": "code",
     "collapsed": false,
     "input": [
      "f = lambda x:x**4 -2*x + 1\n",
      "\n",
      "N=10\n",
      "a = 0.0\n",
      "b = 2.0\n",
      "h = (b-a)/N\n",
      "s = f(a) + f(b)\n",
      "for k in range(1, N/2 +1):\n",
      "    s += 4*f(a+(2*k-1)*h)\n",
      "for k in range(1, N/2):\n",
      "    s += 2*f(a + 2*k*h)\n",
      "total = (h/3)*s\n"
     ],
     "language": "python",
     "metadata": {},
     "outputs": [],
     "prompt_number": 17
    },
    {
     "cell_type": "markdown",
     "metadata": {},
     "source": [
      "(b)\n",
      "-\n"
     ]
    },
    {
     "cell_type": "code",
     "collapsed": false,
     "input": [
      "print \"result: \" + str(total)\n",
      "print \"fractional error: \" + str((total-4.4)/4.4)"
     ],
     "language": "python",
     "metadata": {},
     "outputs": [
      {
       "output_type": "stream",
       "stream": "stdout",
       "text": [
        "result: 4.40042666667\n",
        "fractional error: 9.69696969697e-05\n"
       ]
      }
     ],
     "prompt_number": 18
    },
    {
     "cell_type": "markdown",
     "metadata": {},
     "source": [
      "(c)\n",
      "-\n"
     ]
    },
    {
     "cell_type": "code",
     "collapsed": false,
     "input": [
      "N=100\n",
      "a = 0.0\n",
      "b = 2.0\n",
      "h = (b-a)/N\n",
      "s = f(a) + f(b)\n",
      "for k in range(1, N/2 +1):\n",
      "    s += 4*f(a+(2*k-1)*h)\n",
      "for k in range(1, N/2):\n",
      "    s += 2*f(a + 2*k*h)\n",
      "total = (h/3)*s\n",
      "\n",
      "print \"result: \" + str(total)\n",
      "print \"fractional error: \" + str((total-4.4)/4.4)"
     ],
     "language": "python",
     "metadata": {},
     "outputs": [
      {
       "output_type": "stream",
       "stream": "stdout",
       "text": [
        "result: 4.40000004267\n",
        "fractional error: 9.69696989372e-09\n"
       ]
      }
     ],
     "prompt_number": 19
    },
    {
     "cell_type": "code",
     "collapsed": false,
     "input": [
      "N=1000\n",
      "a = 0.0\n",
      "b = 2.0\n",
      "h = (b-a)/N\n",
      "s = f(a) + f(b)\n",
      "for k in range(1, N/2 +1):\n",
      "    s += 4*f(a+(2*k-1)*h)\n",
      "for k in range(1, N/2):\n",
      "    s += 2*f(a + 2*k*h)\n",
      "total = (h/3)*s\n",
      "\n",
      "print \"result: \" + str(total)\n",
      "print \"fractional error: \" + str((total-4.4)/4.4)"
     ],
     "language": "python",
     "metadata": {},
     "outputs": [
      {
       "output_type": "stream",
       "stream": "stdout",
       "text": [
        "result: 4.4\n",
        "fractional error: 9.69527488595e-13\n"
       ]
      }
     ],
     "prompt_number": 20
    },
    {
     "cell_type": "markdown",
     "metadata": {},
     "source": [
      "The error gets 4 orders of magnitude smaller for every 1 order of magnitude increase in N. The results are many orders of magnitude better than the trapezoidal approximation."
     ]
    },
    {
     "cell_type": "markdown",
     "metadata": {},
     "source": [
      "Exercise 3\n",
      "=\n",
      "(a)\n",
      "-"
     ]
    },
    {
     "cell_type": "code",
     "collapsed": false,
     "input": [
      "import scipy.integrate as integrate\n",
      "f = loadtxt(\"velocities.txt\", float)\n",
      "x = np.zeros(len(f))\n",
      "y = np.zeros(len(f))\n",
      "for i in range(len(f)):\n",
      "    x[i] = f[i][0]\n",
      "    y[i] = f[i][1]\n",
      "d = np.zeros(len(f))\n",
      "trapresult = integrate.trapz(y,x)\n",
      "print \"trapz: \" + str(trapresult)\n",
      "simpsresult = integrate.simps(y,x)\n",
      "print \"simps: \" + str(simpsresult)"
     ],
     "language": "python",
     "metadata": {},
     "outputs": [
      {
       "output_type": "stream",
       "stream": "stdout",
       "text": [
        "trapz: 8.218924\n",
        "simps: 8.22269\n"
       ]
      }
     ],
     "prompt_number": 48
    },
    {
     "cell_type": "markdown",
     "metadata": {},
     "source": [
      "(b)\n",
      "-"
     ]
    },
    {
     "cell_type": "code",
     "collapsed": false,
     "input": [
      "print simpsresult-trapresult   #difference between methods"
     ],
     "language": "python",
     "metadata": {},
     "outputs": [
      {
       "output_type": "stream",
       "stream": "stdout",
       "text": [
        "0.003766\n"
       ]
      }
     ],
     "prompt_number": 51
    },
    {
     "cell_type": "code",
     "collapsed": false,
     "input": [
      "plot(x,y,'r', lw=2, label='velocity')\n",
      "d = np.zeros(len(f))\n",
      "for i in range(len(d)):\n",
      "    d[i] = integrate.trapz(y[:i],x[:i])\n",
      "plot(x,d,'b', lw=2, label='distance traveled')\n",
      "legend()\n",
      "show()"
     ],
     "language": "python",
     "metadata": {},
     "outputs": [
      {
       "output_type": "display_data",
       "png": "[encoded data removed]"
      }
     ],
     "prompt_number": 59
    },
    {
     "cell_type": "code",
     "collapsed": false,
     "input": [],
     "language": "python",
     "metadata": {},
     "outputs": []
    }
   ],
   "metadata": {}
  }
 ]
}